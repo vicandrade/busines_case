{
 "cells": [
  {
   "cell_type": "markdown",
   "id": "08bee078-dba6-461c-a02c-ee29ed6800fa",
   "metadata": {},
   "source": [
    "# Business Case: Alocação de Cabinets de Bateria"
   ]
  },
  {
   "cell_type": "markdown",
   "id": "7f99a547-9b76-45d7-8ed9-1bfe33353cdd",
   "metadata": {},
   "source": [
    "O objetivo desta análise é propor uma estratégia para **otimizar a distribuição dos cabinets** de baterias entre as estações, com foco em melhorar a experiência de troca de baterias dos usuários e a eficiência operacional da rede.\n",
    "\n",
    "Com base nos dados de **tráfego de motos elétricas próximas às estações** (observations) e no histórico de **trocas de bateria** (swaps), buscamos:\n",
    "\n",
    "- Alocar **10 novos cabinets** nas estações com maior demanda reprimida ou sobrecarga;\n",
    "- Identificar **estações subutilizadas** onde faz sentido remover cabinets para realocação;\n",
    "\n",
    "Todas as features do conjunto de dados utilizado neste estudo (*stations_processed.csv*) foram calculadas durante a etapa de processamento dos dados. Para entendê-las mais a fundo, visite a documentação da pasta */src* do projeto."
   ]
  },
  {
   "cell_type": "code",
   "execution_count": null,
   "id": "92ed825a-95b4-403c-8fa8-ed87f16e0ae2",
   "metadata": {},
   "outputs": [],
   "source": [
    "import pandas as pd\n",
    "import plotly.express as px\n",
    "import numpy as np"
   ]
  },
  {
   "cell_type": "code",
   "execution_count": null,
   "id": "878190d6-6599-4559-a77c-3915dbd99bc4",
   "metadata": {},
   "outputs": [],
   "source": [
    "df = pd.read_parquet('../data/processed/stations_processed.parquet', engine='pyarrow')"
   ]
  },
  {
   "cell_type": "markdown",
   "id": "d4c52ada-4dd6-497f-a8ed-25e10acf6da5",
   "metadata": {},
   "source": [
    "## Análise Descritiva Inicial"
   ]
  },
  {
   "cell_type": "code",
   "execution_count": null,
   "id": "b98f72d9-e00e-41c4-95f8-e8aa9372e1b6",
   "metadata": {},
   "outputs": [],
   "source": [
    "print(f'Quantidade de estações do conjunto: {len(df)}')"
   ]
  },
  {
   "cell_type": "code",
   "execution_count": null,
   "id": "9490a3a7-1660-4771-a995-c5d7f341d950",
   "metadata": {},
   "outputs": [],
   "source": [
    "df.head()"
   ]
  },
  {
   "cell_type": "code",
   "execution_count": null,
   "id": "0ee14a74-641f-4d6e-8dcd-a229e419ea4d",
   "metadata": {},
   "outputs": [],
   "source": [
    "df.columns"
   ]
  },
  {
   "cell_type": "markdown",
   "id": "ef59f1fb-d719-4fed-ad3e-ab37afcf08c2",
   "metadata": {},
   "source": [
    "Algumas estações possuem a contagem de trocas igual a 0, pois não tiveram nenhuma troca na semana do dia 10/02/2025 - possivelmente estavam desativadas. Como as métricas do estudo foram calculadas utilizando essa variável, vamos descartar essas estações. "
   ]
  },
  {
   "cell_type": "code",
   "execution_count": null,
   "id": "334a44d8-3953-4027-a6cb-f5fb9a022882",
   "metadata": {},
   "outputs": [],
   "source": [
    "df = df[df['swaps_count']>0][:].reset_index()\n",
    "print(f'Quantidade de estações do conjunto após descarte: {len(df)}')"
   ]
  },
  {
   "cell_type": "markdown",
   "id": "1fbb4fa4-a816-4274-b615-1b85c1ec221d",
   "metadata": {},
   "source": [
    "Agora vamos analisar as estatísticas das colunas."
   ]
  },
  {
   "cell_type": "code",
   "execution_count": null,
   "id": "3e596b32-3625-4c11-89c7-b7a3c4a7e385",
   "metadata": {},
   "outputs": [],
   "source": [
    "num_cols = [\n",
    "    'nearest_station_distance_km', 'cabinet_number',\n",
    "    'swaps_per_day_mean', 'swaps_per_day_median', 'swaps_per_day_max',\n",
    "    'swaps_per_hour_mean', 'swaps_per_hour_median', 'swaps_per_hour_max',\n",
    "    'obs_max', 'obs_min', 'obs_mean', 'obs_sum', 'obs_q75',\n",
    "    'n_points_in_radius', 'swaps_count', 'swaps_per_observation',\n",
    "    'observations_per_swaps', 'swaps_per_cabinet'\n",
    "]\n",
    "\n",
    "df[num_cols[:8]].describe().round(2)"
   ]
  },
  {
   "cell_type": "code",
   "execution_count": null,
   "id": "ac6d7d86-f9f4-401c-8632-7dee6fbc84e1",
   "metadata": {},
   "outputs": [],
   "source": [
    "df[num_cols[8:]].describe().round(2)"
   ]
  },
  {
   "cell_type": "markdown",
   "id": "e1eb742b-7dbc-4040-b6c9-80725a3ce183",
   "metadata": {},
   "source": [
    "Alguns insights importantes das estatísticas:\n",
    "- As estações não tendem a ficar muito longe umas das outras, com uma média de 1.6km;\n",
    "- A mediana de cabinets de bateria por estação é de 2;\n",
    "- As estatísticas para colunas que envolvem o número de observações parecem ser bem instáveis;\n",
    "- A média de trocas diárias por cabinet fica em torno de 22."
   ]
  },
  {
   "cell_type": "markdown",
   "id": "a9cd144e-7e47-428e-bd88-0a027ccf08f6",
   "metadata": {},
   "source": [
    "## Correlação de Variáveis"
   ]
  },
  {
   "cell_type": "markdown",
   "id": "d7e25e42-62ba-437b-8dfb-1b3ac66de401",
   "metadata": {},
   "source": [
    "Para entender como distribuir os cabinets de forma mais inteligente entre as estações, é crucial que os comportamentos das variáveis do conjunto sejam compreendidos mais a fundo, em especial como elas se relacionam com o número de cabinets. Portanto, vamos destrinchar esse tópico."
   ]
  },
  {
   "cell_type": "code",
   "execution_count": null,
   "id": "3fd79e73-47ae-4741-8f90-b7089339189f",
   "metadata": {},
   "outputs": [],
   "source": [
    "df.cabinet_number.value_counts()"
   ]
  },
  {
   "cell_type": "markdown",
   "id": "04fcc43e-d421-4c86-be16-4a2d7d45a193",
   "metadata": {},
   "source": [
    "Aqui, podemos ver que o número de cabinets não tende a ser maior que 4."
   ]
  },
  {
   "cell_type": "markdown",
   "id": "b65eb32a-13f1-42c4-b477-a73cc92bfb7f",
   "metadata": {},
   "source": [
    "### Médias por nº de cabinets"
   ]
  },
  {
   "cell_type": "markdown",
   "id": "ac19024f-2d99-412c-a503-919cc90c61ec",
   "metadata": {},
   "source": [
    "A seguir, vamos agrupar os dados pelo número de cabinets, e analisar as médias para cada quantidade."
   ]
  },
  {
   "cell_type": "code",
   "execution_count": null,
   "id": "c0c5d553-36f9-4765-923f-11427b7e16af",
   "metadata": {},
   "outputs": [],
   "source": [
    "df[num_cols[:8]].groupby('cabinet_number').mean().round(2)"
   ]
  },
  {
   "cell_type": "code",
   "execution_count": null,
   "id": "fc37166b-0c89-41d9-80c4-55641d8b86c2",
   "metadata": {},
   "outputs": [],
   "source": [
    "df[num_cols[8:] + ['cabinet_number']].groupby('cabinet_number').mean().round(2)"
   ]
  },
  {
   "cell_type": "markdown",
   "id": "831f77b0-4d92-4bc5-947c-75348f682ebf",
   "metadata": {},
   "source": [
    "Ao calcular as médias das variáveis em função do número de gabinetes, observa-se uma tendência clara de crescimento para indicadores relacionados à atividade total da estação, como a **swaps_per_day_mean**.\n",
    "Isso sugere que essas variáveis estão **positivamente correlacionadas com o número de gabinetes disponíveis**, refletindo que estações com mais gabinetes tendem a atender um maior volume de trocas, como expressado no gráfico abaixo: "
   ]
  },
  {
   "cell_type": "code",
   "execution_count": null,
   "id": "5de3e620-4e2d-4c1a-bcbc-c3c0972b0c22",
   "metadata": {},
   "outputs": [],
   "source": [
    "fig = px.scatter(\n",
    "    df, \n",
    "    y='swaps_per_day_mean', \n",
    "    x='cabinet_number', \n",
    "    trendline='ols'\n",
    ")\n",
    "\n",
    "fig.update_layout(\n",
    "    title='Dispersão entre Nº de Cabinets x Média Diária de Swaps',\n",
    "    yaxis_title='Média Diária de Swaps',\n",
    "    xaxis_title='Número de Cabinets',\n",
    "    height=500, width=900\n",
    ")\n",
    "\n",
    "fig.update_traces(\n",
    "    marker=dict(\n",
    "        size=7,               \n",
    "        symbol='diamond',\n",
    "        opacity=0.65,\n",
    "        line=dict(width=1, color='black')\n",
    "    )\n",
    ")\n",
    "\n",
    "fig.show()"
   ]
  },
  {
   "cell_type": "markdown",
   "id": "e15a337b-08bd-46a0-aecd-2efd741b2e3e",
   "metadata": {},
   "source": [
    "Embora a correlação entre os indicadores e o número de cabinets não implique causalidade, essa variável se mostra um **parâmetro relevante** para orientar a análise e o ajuste das métricas associadas aos swaps nas estações."
   ]
  },
  {
   "cell_type": "markdown",
   "id": "43072105-4a80-4c93-b1b8-3b6dfdb3c89e",
   "metadata": {},
   "source": [
    "Por outro lado, o indicador **swaps_per_cabinet**, que mede a eficiência individual de cada gabinete (média diária de swaps / nº de cabinets), não demonstra um padrão consistente em relação ao número total de gabinetes.\n",
    "Isso indica que a simples adição de mais gabinetes não indica um aumento ou diminuição proporcional na utilização de cada gabinete, como pode ser observado no gráfico abaixo:"
   ]
  },
  {
   "cell_type": "code",
   "execution_count": null,
   "id": "a998cdc7-eed6-4ee3-b9f2-65d88c54cd30",
   "metadata": {},
   "outputs": [],
   "source": [
    "fig = px.scatter(\n",
    "    df, \n",
    "    y='swaps_per_cabinet', \n",
    "    x='cabinet_number', \n",
    "    trendline='ols'\n",
    ")\n",
    "\n",
    "fig.update_layout(\n",
    "    title='Dispersão entre Nº de Cabinets x Swaps por Cabinet',\n",
    "    yaxis_title='Swaps por Cabinet',\n",
    "    xaxis_title='Número de Cabinets',\n",
    "    height=500, width=900\n",
    ")\n",
    "\n",
    "fig.update_traces(\n",
    "    marker=dict(\n",
    "        size=7,               \n",
    "        symbol='diamond',\n",
    "        opacity=0.65,\n",
    "        line=dict(width=1, color='black')\n",
    "    )\n",
    ")\n",
    "\n",
    "fig.show()"
   ]
  },
  {
   "cell_type": "markdown",
   "id": "56b4f218-7832-413e-90d1-8f02b6f69249",
   "metadata": {},
   "source": [
    "Isso é interessante, pois era de se esperar que, com o aumento do número de cabinets, houvesse uma redução na quantidade média de swaps por cabinet, refletindo uma diluição da demanda entre mais gabinetes.\n",
    "No entanto, a ausência desse padrão pode indicar uma **lógica de alocação já eficiente**, em que os cabinets adicionais são implantados justamente nas estações com maior demanda, mantendo a utilização média de cada gabinete em níveis consistentes."
   ]
  },
  {
   "cell_type": "markdown",
   "id": "88d6e266-ac6b-4f97-84b1-8625e2d500f0",
   "metadata": {},
   "source": [
    "## Correlações"
   ]
  },
  {
   "cell_type": "markdown",
   "id": "6c7e943b-0a02-4534-8886-8eb21e1182ed",
   "metadata": {},
   "source": [
    "Para tornar a análise mais objetiva, vamos examinar diretamente os valores das correlações entre as variáveis e o número de cabinets."
   ]
  },
  {
   "cell_type": "code",
   "execution_count": null,
   "id": "69923601-f591-4d0e-bd94-294fe69d71e2",
   "metadata": {},
   "outputs": [],
   "source": [
    "df_num = df[num_cols]\n",
    "\n",
    "corr_with_cabinet = df_num.corr(method='spearman')['cabinet_number'].drop('cabinet_number')\n",
    "\n",
    "corr_with_cabinet = corr_with_cabinet.sort_values(ascending=False).round(3)\n",
    "\n",
    "corr_df = corr_with_cabinet.reset_index()\n",
    "corr_df.columns = ['Variable', 'Correlation']\n",
    "\n",
    "fig = px.imshow(\n",
    "    [corr_df['Correlation']],                    \n",
    "    x=corr_df['Variable'],                      \n",
    "    y=['Correlation with cabinet_number'],       \n",
    "    color_continuous_scale='Blues',\n",
    "    zmin=-1, zmax=1,\n",
    "    text_auto='.2f'\n",
    ")\n",
    "\n",
    "fig.update_layout(\n",
    "    title='Correlation of Features with cabinet_number',\n",
    "    xaxis=dict(tickangle=45),\n",
    "    height=300\n",
    ")\n",
    "\n",
    "fig.show()"
   ]
  },
  {
   "cell_type": "code",
   "execution_count": null,
   "id": "a44be91a-ea1b-4960-a302-e2bc0e08dff4",
   "metadata": {},
   "outputs": [],
   "source": [
    "# Calcula a matriz de correlação\n",
    "corr_matrix = df_num.corr(method='spearman')\n",
    "\n",
    "# Cria um heatmap interativo\n",
    "fig = px.imshow(\n",
    "    corr_matrix,\n",
    "    x=corr_matrix.columns,\n",
    "    y=corr_matrix.columns,\n",
    "    color_continuous_scale='Blues',\n",
    "    zmin=-1, zmax=1,\n",
    "    text_auto='.2f'\n",
    ")\n",
    "\n",
    "fig.update_layout(\n",
    "    title='Correlation Matrix (Spearman)',\n",
    "    xaxis=dict(tickangle=45),\n",
    "    width=800,\n",
    "    height=800\n",
    ")\n",
    "\n",
    "fig.show()"
   ]
  },
  {
   "cell_type": "markdown",
   "id": "dcc03367-7003-400c-8d06-3075c9fd9e8f",
   "metadata": {},
   "source": [
    "## Distribuição de alocações"
   ]
  },
  {
   "cell_type": "markdown",
   "id": "81cb9fd8-d43f-48e5-898c-6a1d3ec18c08",
   "metadata": {},
   "source": [
    "Agora que já entendemos um pouco melhor o comportamento da nossa variável de decisão, e já temos nossas features calculadas, vamos adentrar o problema em questão: a alocação e remoção inteligente de cabinets. Para isso, estaremos trabalhando com as 5 seguintes features:\n",
    "\n",
    "- **swaps_per_cabinet:** média diária de swaps / nº de cabinets\n",
    "- **swaps_per_observation:** swaps totais / volume de tráfego\n",
    "- **observation_per_swaps:** volume de tráfego / swaps totais\n",
    "- **nearest_station_distance_km:** distância da estação mais próxima\n",
    "- **cabinet_number:** número de cabinets (na última semana)\n",
    "\n",
    "Antes de seguirmos com a otimização, é importante alinharmos os conceitos de negócio que as features **observation_per_swaps** e **swaps_per_observations** representam."
   ]
  },
  {
   "cell_type": "markdown",
   "id": "8a853651-b80b-49af-8e51-52e191e9390c",
   "metadata": {},
   "source": [
    "**Interpretação dos Indicadores**\n",
    "\n",
    "O indicador **swaps_per_observation** é definido como:\n",
    "\n",
    "$$\n",
    "\\text{swaps\\_per\\_observation} = \\frac{\\text{swaps\\_count}}{\\text{observations}}\n",
    "$$\n",
    "\n",
    "Ele mede a eficiência da estação em converter o tráfego de motos próximas em swaps. Valores altos indicam que, mesmo com pouco tráfego, a estação consegue realizar muitas trocas, o que sugere alta eficiência e demanda. Valores baixos indicam que há muito tráfego passando, mas poucas trocas acontecendo, o que pode revelar um potencial de subutilização da estação. Essa variável é positivamente correlacionada com o número de cabinets.\n",
    "\n",
    "Por outro lado, o indicador **observations_per_swap** é definido como:\n",
    "\n",
    "$$\n",
    "\\text{observations\\_per\\_swap} = \\frac{\\text{observations}}{\\text{swaps\\_count}}\n",
    "$$\n",
    "\n",
    "Este é essencialmente o inverso do anterior e representa quantos veículos observados passam pela estação para cada swap realizado. Valores altos indicam que, para cada troca, muitas motos passam pela estação sem utilizar o serviço, o que pode sugerir que a estação precisa de mais cabinets para atender à demanda ou está mal posicionada. Já valores baixos indicam que cada moto que passa tem alta probabilidade de realizar um swap, sugerindo que a estação é eficiente ou próxima da saturação. Esse indicador é negativamente correlacionada com o número de cabinets.\n",
    "\n",
    "Essas duas métricas são, portanto, inversamente proporcionais: quando uma é alta, a outra tende a ser baixa. Em geral, quando o **swaps_per_observation** é baixo e o **observations_per_swap** é alto, significa que há grande tráfego mas poucas trocas, sinalizando oportunidade de melhoria com a adição de mais cabinets. Por outro lado, quando o **swaps_per_observation** é alto e o **observations_per_swap** é baixo, isso quer dizer que a estação já opera de maneira eficiente."
   ]
  },
  {
   "cell_type": "markdown",
   "id": "38382247-40af-44e3-bdba-9c91d6014eb7",
   "metadata": {},
   "source": [
    "**Otimização**\n",
    "\n",
    "Agora que já entedemos os conceitos envolvidos na otimização, o critério de alocação de cabinets foi calculado a partir dos seguintes pesos atribuídos a cada variável:\n",
    "\n",
    "- **w_swaps_cabinet = 35%**  \n",
    "  Prioriza a eficiência ou saturação dos gabinetes já instalados, favorecendo estações que fazem mais swaps por gabinete.\n",
    "\n",
    "- **w_obs_per_swaps = 30%**  \n",
    "  Destaca locais com tráfego alto e poucas trocas, sugerindo potencial para crescimento com mais gabinetes.\n",
    "\n",
    "- **w_swaps_per_obs = 15%**  \n",
    "  Mede a capacidade de converter tráfego em swaps. Indica quão bem a estação atende à demanda que passa por ela.\n",
    "\n",
    "- **w_distance = 10%**  \n",
    "  Atua como leve penalização logística, desfavorecendo locais muito perto de outras estações.\n",
    "\n",
    "- **w_cabinet_number = 10%**  \n",
    "  Penaliza de forma sutil estações que já possuem muitos gabinetes, evitando subutilização.\n",
    "\n",
    "**Estratégia Priorizada**\n",
    "\n",
    "Essa configuração favorece:\n",
    "- **Eficiência**: dá mais valor a estações que já operam bem (ou que possuem cabinets saturados).  \n",
    "- **Oportunidade de expansão**: identifica locais onde há demanda reprimida.  \n",
    "- **Equilíbrio operacional**: desprioriza alocação em estações muito próxima de outras ou com excesso de cabinets."
   ]
  },
  {
   "cell_type": "markdown",
   "id": "8154c7b4-523f-4b31-8484-a8f594543cc3",
   "metadata": {},
   "source": [
    "### Alocação de Cabinets"
   ]
  },
  {
   "cell_type": "code",
   "execution_count": null,
   "id": "c66cd414-28f8-4bcc-93f0-229fa3ccf39b",
   "metadata": {},
   "outputs": [],
   "source": [
    "# Função auxiliar para normalizar valores\n",
    "def normalize(series):\n",
    "    return (series - series.min()) / (series.max() - series.min() + 1e-9)"
   ]
  },
  {
   "cell_type": "code",
   "execution_count": null,
   "id": "3bc58177-e37b-4fea-b1ba-84795e3ea470",
   "metadata": {},
   "outputs": [],
   "source": [
    "def suggest_cabinets_allocation(df, cabinets_to_add=10, max_cabinets=8, exponent=5):\n",
    "    df_alloc = df[df['cabinet_number']<max_cabinets].reset_index(drop=True).copy()\n",
    "\n",
    "    # Normalização dos scores\n",
    "    df_alloc['score_swaps_cabinet'] = normalize(df_alloc['swaps_per_cabinet'])\n",
    "    df_alloc['score_swaps_per_obs'] = normalize(df_alloc['swaps_per_observation'])\n",
    "    df_alloc['score_obs_per_swaps'] = normalize(df_alloc['observations_per_swaps'])\n",
    "    df_alloc['score_distance'] = normalize(df_alloc['nearest_station_distance_km'])\n",
    "    df_alloc['score_cabinet_number'] = 1 / (1 + df_alloc['cabinet_number'])\n",
    "    \n",
    "    # Pesos individuais\n",
    "    w_swaps_cabinet = 0.35\n",
    "    w_swaps_per_obs = 0.15\n",
    "    w_obs_per_swaps = 0.3\n",
    "    w_distance = 0.1\n",
    "    w_cabinet_number = 0.1\n",
    "    \n",
    "    # Score de prioridade final\n",
    "    df_alloc['priority_score_raw'] = (\n",
    "          w_swaps_cabinet * df_alloc['score_swaps_cabinet']\n",
    "        + w_swaps_per_obs * df_alloc['score_swaps_per_obs']\n",
    "        + w_obs_per_swaps * df_alloc['score_obs_per_swaps']\n",
    "        + w_distance * df_alloc['score_distance']\n",
    "        + w_cabinet_number * df_alloc['score_cabinet_number']\n",
    "    )\n",
    "\n",
    "    # Aplicação de potência para maior diferenciação\n",
    "    df_alloc['priority_score'] = df_alloc['priority_score_raw'] ** exponent\n",
    "    \n",
    "    # Alocação dos novos gabinetes\n",
    "    df_alloc['allocation_float'] = (df_alloc['priority_score'] / df_alloc['priority_score'].sum()) * cabinets_to_add\n",
    "    df_alloc['allocation'] = np.floor(df_alloc['allocation_float'])\n",
    "    \n",
    "    # Distribuir o restante (depois do floor)\n",
    "    remaining = cabinets_to_add - int(df_alloc['allocation'].sum())\n",
    "    if remaining > 0:\n",
    "        top_up = df_alloc.sort_values('allocation_float', ascending=False).head(remaining).index\n",
    "        df_alloc.loc[top_up, 'allocation'] += 1\n",
    "\n",
    "    # Estimativa de ganho\n",
    "    df_alloc['new_swaps_per_day_mean'] = df_alloc['swaps_per_day_mean'] + \\\n",
    "        df_alloc['swaps_per_cabinet'] * np.log1p(df_alloc['allocation']) / np.log1p(df_alloc['cabinet_number'] + 1)\n",
    "    \n",
    "    df_alloc['gain'] = df_alloc['new_swaps_per_day_mean'] - df_alloc['swaps_per_day_mean']\n",
    "\n",
    "    # Organização do dataframe com os resultados\n",
    "    cols = [\n",
    "        'swap_station_id', 'allocation', 'cabinet_number', \n",
    "        'swaps_per_day_mean', 'new_swaps_per_day_mean', 'gain',\n",
    "        'swaps_per_cabinet', 'swaps_per_observation', \n",
    "        'observations_per_swaps', 'nearest_station_distance_km']\n",
    "    df_alloc = (\n",
    "        df_alloc[df_alloc['allocation']>0][cols]\n",
    "        .sort_values('allocation', ascending=False)\n",
    "        .round(3)\n",
    "        .reset_index(drop=True)\n",
    "    )\n",
    "\n",
    "    return df_alloc"
   ]
  },
  {
   "cell_type": "code",
   "execution_count": null,
   "id": "44ef2417-51e0-427f-b5e2-775dad021a31",
   "metadata": {},
   "outputs": [],
   "source": [
    "df_alloc = suggest_cabinets_allocation(df)\n",
    "df_alloc"
   ]
  },
  {
   "cell_type": "code",
   "execution_count": null,
   "id": "9190bc7a-27cd-4416-8a13-aa98c7a868e2",
   "metadata": {},
   "outputs": [],
   "source": [
    "gain_sum = df_alloc.gain.sum().round(2)\n",
    "gain_mean = df_alloc.gain.mean().round(2)\n",
    "print(f'Com a alocação sugerida acima, estima-se um ganho total de {gain_sum} swaps diários, com uma média de ganho de {gain_mean} swaps diários por estação.')"
   ]
  },
  {
   "cell_type": "markdown",
   "id": "0231c20f-d620-4162-beb3-772e974eb207",
   "metadata": {},
   "source": [
    "As alocações sugeridas pelo modelo indicam que algumas estações receberão múltiplos cabinets, como a estação 1451 (+3) e 446 (+2), enquanto a maioria receberá apenas 1 gabinete adicional. O ganho total estimado em swaps diários é significativo, refletindo o aumento da capacidade de atendimento nas estações selecionadas.\n",
    "\n",
    "Estabelecimentos com menor número inicial de cabinets tendem a apresentar ganhos proporcionais maiores, evidenciando que a adição de cabinets nestas estações é eficiente. Já estações com cabinets já alocados continuam apresentando aumento relevante, mas o efeito relativo diminui possivelmente devido à saturação.\n",
    "\n",
    "O indicador swaps_per_cabinet mostra que algumas estações são altamente eficientes individualmente, o que reforça a importância de direcionar cabinets adicionais para locais onde cada unidade terá impacto relevante. Já os indicadores swaps_per_observation e observations_per_swaps ajudam a identificar estações com grande demanda não atendida e potencial de melhoria."
   ]
  },
  {
   "cell_type": "markdown",
   "id": "c32cdec0-db1f-4f6a-9ff0-e9cb72f0fdab",
   "metadata": {},
   "source": [
    "### Remoção de Cabinets"
   ]
  },
  {
   "cell_type": "code",
   "execution_count": null,
   "id": "8df05811-0bb5-40dd-941e-6b4a112bb8c7",
   "metadata": {},
   "outputs": [],
   "source": [
    "def suggest_cabinets_removal(df, cabinets_to_remove=10, min_cabinets=1, min_cabinets_remaining=0):\n",
    "    df_rem = df[df['cabinet_number'] > min_cabinets].copy()\n",
    "\n",
    "    # Normalizações\n",
    "    df_rem['score_swaps_cabinet'] = normalize(df_rem['swaps_per_cabinet'])\n",
    "    df_rem['score_swaps_per_obs'] = normalize(df_rem['swaps_per_observation'])\n",
    "    df_rem['score_obs_per_swaps'] = normalize(df_rem['observations_per_swaps'])\n",
    "    df_rem['score_distance'] = normalize(df_rem['nearest_station_distance_km'])\n",
    "    df_rem['score_cabinet_number'] = 1 / (1 + df_rem['cabinet_number'])\n",
    "\n",
    "    # Pesos\n",
    "    w_swaps_cabinet = 0.35\n",
    "    w_swaps_per_obs = 0.15\n",
    "    w_obs_per_swaps = 0.3\n",
    "    w_distance = 0.1\n",
    "    w_cabinet_number = 0.1\n",
    "\n",
    "    # Priority score “menos eficiente”\n",
    "    df_rem['priority_score_raw'] = (\n",
    "          w_swaps_cabinet * df_rem['score_swaps_cabinet']\n",
    "        + w_swaps_per_obs * df_rem['score_swaps_per_obs']\n",
    "        + w_obs_per_swaps * df_rem['score_obs_per_swaps']\n",
    "        + w_distance * df_rem['score_distance']\n",
    "        + w_cabinet_number * df_rem['score_cabinet_number']\n",
    "    )\n",
    "    df_rem['priority_score'] = df_rem['priority_score_raw'] ** 5\n",
    "\n",
    "    # Score invertido para remoção\n",
    "    df_rem['inverse_score'] = 1 / (df_rem['priority_score'] + 1e-9)\n",
    "\n",
    "    # Distribuição inicial proporcional\n",
    "    df_rem['removal_float'] = (df_rem['inverse_score'] / df_rem['inverse_score'].sum()) * cabinets_to_remove\n",
    "    df_rem['removal'] = np.floor(df_rem['removal_float']).astype(int)\n",
    "\n",
    "    # -------- Redistribuição iterativa para respeitar min_cabinets --------\n",
    "    while df_rem['removal'].sum() < cabinets_to_remove:\n",
    "        remaining = cabinets_to_remove - df_rem['removal'].sum()\n",
    "        # Estaçoes que ainda podem perder cabinets\n",
    "        df_rem['max_removable'] = df_rem['cabinet_number'] - min_cabinets - df_rem['removal']\n",
    "        candidates = df_rem[df_rem['max_removable'] > 0]\n",
    "        if candidates.empty:\n",
    "            break  # não há mais onde remover\n",
    "        # Ordenar por inverso do score (menos eficiente primeiro)\n",
    "        candidates = candidates.sort_values('inverse_score', ascending=False)\n",
    "        for idx in candidates.index:\n",
    "            if remaining == 0:\n",
    "                break\n",
    "            df_rem.at[idx, 'removal'] += 1\n",
    "            remaining -= 1\n",
    "\n",
    "    # Garantir que não violamos min_cabinets\n",
    "    df_rem['removal'] = df_rem.apply(\n",
    "        lambda row: min(row['removal'], max(row['cabinet_number'] - min_cabinets_remaining, 0)), axis=1\n",
    "    )\n",
    "\n",
    "    # Estimativa de perda\n",
    "    df_rem['new_swaps_per_day_mean'] = df_rem['swaps_per_day_mean'] - \\\n",
    "        df_rem['swaps_per_cabinet'] * np.log1p(df_rem['removal'].abs()) / np.log1p(df_rem['cabinet_number'])\n",
    "    df_rem['loss'] = df_rem['swaps_per_day_mean'] - df_rem['new_swaps_per_day_mean']\n",
    "\n",
    "    # Organização final\n",
    "    cols = [\n",
    "        'swap_station_id', 'removal', 'cabinet_number', \n",
    "        'swaps_per_day_mean', 'new_swaps_per_day_mean', 'loss',\n",
    "        'swaps_per_cabinet', 'swaps_per_observation', \n",
    "        'observations_per_swaps', 'nearest_station_distance_km']\n",
    "    \n",
    "    df_rem = (\n",
    "        df_rem[df_rem['removal']>0][cols]\n",
    "        .sort_values('removal', ascending=False)\n",
    "        .round(3)\n",
    "        .reset_index(drop=True)\n",
    "    )\n",
    "    \n",
    "    return df_rem"
   ]
  },
  {
   "cell_type": "code",
   "execution_count": null,
   "id": "080428b8-2cbb-4af8-85f4-2bcbb8cfbc3a",
   "metadata": {},
   "outputs": [],
   "source": [
    "df_rem = suggest_cabinets_removal(df)"
   ]
  },
  {
   "cell_type": "code",
   "execution_count": null,
   "id": "e937528c-0ffa-4580-8c75-93c15a4508b8",
   "metadata": {},
   "outputs": [],
   "source": [
    "df_rem"
   ]
  },
  {
   "cell_type": "code",
   "execution_count": null,
   "id": "ea0b7061-1454-4a32-b5d4-dc0f1096c66f",
   "metadata": {},
   "outputs": [],
   "source": [
    "loss_sum = df_rem.loss.sum().round(2)\n",
    "loss_mean = df_rem.loss.mean().round(2)\n",
    "print(f'Com a alocação sugerida acima, estima-se uma perda total de {loss_sum} swaps diários, com uma média de perda de {loss_mean} swaps diários por estação.')"
   ]
  },
  {
   "cell_type": "markdown",
   "id": "0abf8896-d17b-40a3-86e5-d9dcaa197eaf",
   "metadata": {},
   "source": [
    "O modelo sugere remover cabinets de estações com menor demanda relativa ou excesso de cabinets, priorizando eficiência operacional. Por exemplo, 1411 e 1038 perderiam 2 cabinets cada, enquanto outras estações perderiam apenas 1.\n",
    "\n",
    "Observa-se que, mesmo com a remoção, o impacto estimado nos swaps diários é muito baixo, comprovando a lógica de otimização e refletindo que essas estações possuem swaps_per_cabinet realmente baixos, indicando que cada cabinet não está sendo totalmente eficiente. Ao reduzir cabinets, conseguimos evitar subutilização e liberar recursos para estações com maior demanda.\n",
    "\n",
    "Além disso, muitas das estações selecionadas para remoção apresentam swaps_per_observation baixos e observations_per_swaps relativamente altos, ou seja, há tráfego passando, mas cada swap exige mais observações, reforçando que a alocação extra de cabinets não seria eficiente. Muitas estações também possuem distância da estação mais próxima mínima, garantindo que a remoção não deixará áreas desassistidas.\n",
    "\n",
    "Essa estratégia permite realocar cabinets para onde são mais necessários, aumentando a eficiência global e evitando desperdício em estações com baixa utilização."
   ]
  }
 ],
 "metadata": {
  "kernelspec": {
   "display_name": "Python [conda env:meu_ambiente]",
   "language": "python",
   "name": "conda-env-meu_ambiente-py"
  },
  "language_info": {
   "codemirror_mode": {
    "name": "ipython",
    "version": 3
   },
   "file_extension": ".py",
   "mimetype": "text/x-python",
   "name": "python",
   "nbconvert_exporter": "python",
   "pygments_lexer": "ipython3",
   "version": "3.9.21"
  }
 },
 "nbformat": 4,
 "nbformat_minor": 5
}
