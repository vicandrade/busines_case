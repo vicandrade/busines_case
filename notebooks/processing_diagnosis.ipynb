{
 "cells": [
  {
   "cell_type": "markdown",
   "id": "bb5b09aa-645d-476b-9779-8d1df613fa3b",
   "metadata": {},
   "source": [
    "# Data Diagnosis"
   ]
  },
  {
   "cell_type": "code",
   "execution_count": 11,
   "id": "f50b9289-61f0-4b45-bd38-34c8bc79c7cb",
   "metadata": {},
   "outputs": [],
   "source": [
    "import pandas as pd"
   ]
  },
  {
   "cell_type": "code",
   "execution_count": 12,
   "id": "d5bf07d0-0bc9-4b8a-9191-f992c15da786",
   "metadata": {},
   "outputs": [
    {
     "name": "stderr",
     "output_type": "stream",
     "text": [
      "C:\\Users\\vican\\AppData\\Local\\Temp\\ipykernel_15168\\4079410079.py:3: DtypeWarning: Columns (3) have mixed types. Specify dtype option on import or set low_memory=False.\n",
      "  df_traffic = pd.read_csv('../data/raw/ds_case_data_2025-09-26T12_43_22.934122897Z.csv')\n"
     ]
    }
   ],
   "source": [
    "df_swaps = pd.read_csv('../data/raw/case_data_science_charging_ops___battery_swap_2025-09-26T17_45_41.358859844Z.csv')\n",
    "df_stations = pd.read_csv('../data/raw/case_data_science_charging_ops___swap_stations_info_2025-09-26T13_21_20.332938629Z.csv')\n",
    "df_traffic = pd.read_csv('../data/raw/ds_case_data_2025-09-26T12_43_22.934122897Z.csv')"
   ]
  },
  {
   "cell_type": "code",
   "execution_count": 13,
   "id": "2846fee2-c6ab-47ad-b1e2-4dfb0cf9c5a7",
   "metadata": {},
   "outputs": [],
   "source": [
    "def diagnosis(df):\n",
    "    print('## Dataset Size ##')\n",
    "    print(f'{len(df)}')\n",
    "    print('\\n ## Column Types ##')\n",
    "    print(df.dtypes)\n",
    "    print('\\n ## NA Counts ##')\n",
    "    print(df.isna().sum())\n",
    "    print('\\n ## Duplicates ##')\n",
    "    print(df.duplicated().sum())"
   ]
  },
  {
   "cell_type": "markdown",
   "id": "7cccc953-e918-4ac4-a5a6-a3be6d06f81d",
   "metadata": {},
   "source": [
    "## Swaps"
   ]
  },
  {
   "cell_type": "code",
   "execution_count": 15,
   "id": "f136c281-0c3c-46d4-b593-63baa8868fa3",
   "metadata": {},
   "outputs": [
    {
     "data": {
      "text/html": [
       "<div>\n",
       "<style scoped>\n",
       "    .dataframe tbody tr th:only-of-type {\n",
       "        vertical-align: middle;\n",
       "    }\n",
       "\n",
       "    .dataframe tbody tr th {\n",
       "        vertical-align: top;\n",
       "    }\n",
       "\n",
       "    .dataframe thead th {\n",
       "        text-align: right;\n",
       "    }\n",
       "</style>\n",
       "<table border=\"1\" class=\"dataframe\">\n",
       "  <thead>\n",
       "    <tr style=\"text-align: right;\">\n",
       "      <th></th>\n",
       "      <th>created_at</th>\n",
       "      <th>ended_at</th>\n",
       "      <th>cabinet_id</th>\n",
       "      <th>swap_station_id</th>\n",
       "      <th>battery_out_id</th>\n",
       "      <th>battery_in_id</th>\n",
       "      <th>rider_id</th>\n",
       "      <th>status</th>\n",
       "      <th>battery_in_level</th>\n",
       "      <th>battery_out_level</th>\n",
       "    </tr>\n",
       "  </thead>\n",
       "  <tbody>\n",
       "    <tr>\n",
       "      <th>0</th>\n",
       "      <td>January 1, 2025, 12:00 AM</td>\n",
       "      <td>January 1, 2025, 12:00 AM</td>\n",
       "      <td>785</td>\n",
       "      <td>834</td>\n",
       "      <td>15,506</td>\n",
       "      <td>13,900</td>\n",
       "      <td>28,714</td>\n",
       "      <td>completed</td>\n",
       "      <td>8</td>\n",
       "      <td>100</td>\n",
       "    </tr>\n",
       "    <tr>\n",
       "      <th>1</th>\n",
       "      <td>January 1, 2025, 12:00 AM</td>\n",
       "      <td>January 1, 2025, 12:01 AM</td>\n",
       "      <td>476</td>\n",
       "      <td>834</td>\n",
       "      <td>14,665</td>\n",
       "      <td>8,087</td>\n",
       "      <td>30,510</td>\n",
       "      <td>completed</td>\n",
       "      <td>20</td>\n",
       "      <td>100</td>\n",
       "    </tr>\n",
       "    <tr>\n",
       "      <th>2</th>\n",
       "      <td>January 1, 2025, 12:00 AM</td>\n",
       "      <td>January 1, 2025, 12:05 AM</td>\n",
       "      <td>896</td>\n",
       "      <td>1,155</td>\n",
       "      <td>14,586</td>\n",
       "      <td>14,663</td>\n",
       "      <td>22,368</td>\n",
       "      <td>completed</td>\n",
       "      <td>68</td>\n",
       "      <td>100</td>\n",
       "    </tr>\n",
       "    <tr>\n",
       "      <th>3</th>\n",
       "      <td>January 1, 2025, 12:01 AM</td>\n",
       "      <td>January 1, 2025, 12:01 AM</td>\n",
       "      <td>59</td>\n",
       "      <td>553</td>\n",
       "      <td>14,806</td>\n",
       "      <td>15,492</td>\n",
       "      <td>25,990</td>\n",
       "      <td>completed</td>\n",
       "      <td>20</td>\n",
       "      <td>100</td>\n",
       "    </tr>\n",
       "    <tr>\n",
       "      <th>4</th>\n",
       "      <td>January 1, 2025, 12:01 AM</td>\n",
       "      <td>January 1, 2025, 12:02 AM</td>\n",
       "      <td>785</td>\n",
       "      <td>834</td>\n",
       "      <td>16,789</td>\n",
       "      <td>15,015</td>\n",
       "      <td>28,714</td>\n",
       "      <td>completed</td>\n",
       "      <td>10</td>\n",
       "      <td>100</td>\n",
       "    </tr>\n",
       "  </tbody>\n",
       "</table>\n",
       "</div>"
      ],
      "text/plain": [
       "                  created_at                   ended_at cabinet_id  \\\n",
       "0  January 1, 2025, 12:00 AM  January 1, 2025, 12:00 AM        785   \n",
       "1  January 1, 2025, 12:00 AM  January 1, 2025, 12:01 AM        476   \n",
       "2  January 1, 2025, 12:00 AM  January 1, 2025, 12:05 AM        896   \n",
       "3  January 1, 2025, 12:01 AM  January 1, 2025, 12:01 AM         59   \n",
       "4  January 1, 2025, 12:01 AM  January 1, 2025, 12:02 AM        785   \n",
       "\n",
       "  swap_station_id battery_out_id battery_in_id rider_id     status  \\\n",
       "0             834         15,506        13,900   28,714  completed   \n",
       "1             834         14,665         8,087   30,510  completed   \n",
       "2           1,155         14,586        14,663   22,368  completed   \n",
       "3             553         14,806        15,492   25,990  completed   \n",
       "4             834         16,789        15,015   28,714  completed   \n",
       "\n",
       "   battery_in_level  battery_out_level  \n",
       "0                 8                100  \n",
       "1                20                100  \n",
       "2                68                100  \n",
       "3                20                100  \n",
       "4                10                100  "
      ]
     },
     "execution_count": 15,
     "metadata": {},
     "output_type": "execute_result"
    }
   ],
   "source": [
    "df_swaps.head()"
   ]
  },
  {
   "cell_type": "code",
   "execution_count": 16,
   "id": "be5fced4-6a26-4087-a256-ef1052787699",
   "metadata": {
    "scrolled": true
   },
   "outputs": [
    {
     "name": "stdout",
     "output_type": "stream",
     "text": [
      "## Dataset Size ##\n",
      "383739\n",
      "\n",
      " ## Column Types ##\n",
      "created_at           object\n",
      "ended_at             object\n",
      "cabinet_id           object\n",
      "swap_station_id      object\n",
      "battery_out_id       object\n",
      "battery_in_id        object\n",
      "rider_id             object\n",
      "status               object\n",
      "battery_in_level      int64\n",
      "battery_out_level     int64\n",
      "dtype: object\n",
      "\n",
      " ## NA Counts ##\n",
      "created_at               0\n",
      "ended_at              8811\n",
      "cabinet_id               7\n",
      "swap_station_id          0\n",
      "battery_out_id       12762\n",
      "battery_in_id        12762\n",
      "rider_id                 0\n",
      "status                   0\n",
      "battery_in_level         0\n",
      "battery_out_level        0\n",
      "dtype: int64\n",
      "\n",
      " ## Duplicates ##\n",
      "1300\n"
     ]
    }
   ],
   "source": [
    "diagnosis(df_swaps)"
   ]
  },
  {
   "cell_type": "code",
   "execution_count": 17,
   "id": "8f49bf41-874e-4e48-8ecd-4397076133d8",
   "metadata": {},
   "outputs": [
    {
     "data": {
      "text/plain": [
       "completed                        370303\n",
       "TIMEOUT                            5928\n",
       "ERROR                              4046\n",
       "pending                            2015\n",
       "CONNECTION_TIMEOUT                  788\n",
       "SWAP_SUCCESS_DOOR_LEFT_OPENED       637\n",
       "CLOSE_SECOND_SLOT                    15\n",
       "canceled                              5\n",
       "expired                               2\n",
       "Name: status, dtype: int64"
      ]
     },
     "execution_count": 17,
     "metadata": {},
     "output_type": "execute_result"
    }
   ],
   "source": [
    "df_swaps.status.value_counts()"
   ]
  },
  {
   "cell_type": "code",
   "execution_count": 18,
   "id": "706a5269-8117-4296-b570-02d73eabb8c0",
   "metadata": {},
   "outputs": [
    {
     "data": {
      "text/html": [
       "<div>\n",
       "<style scoped>\n",
       "    .dataframe tbody tr th:only-of-type {\n",
       "        vertical-align: middle;\n",
       "    }\n",
       "\n",
       "    .dataframe tbody tr th {\n",
       "        vertical-align: top;\n",
       "    }\n",
       "\n",
       "    .dataframe thead th {\n",
       "        text-align: right;\n",
       "    }\n",
       "</style>\n",
       "<table border=\"1\" class=\"dataframe\">\n",
       "  <thead>\n",
       "    <tr style=\"text-align: right;\">\n",
       "      <th></th>\n",
       "      <th>battery_in_level</th>\n",
       "      <th>battery_out_level</th>\n",
       "    </tr>\n",
       "  </thead>\n",
       "  <tbody>\n",
       "    <tr>\n",
       "      <th>count</th>\n",
       "      <td>383739.0</td>\n",
       "      <td>383739.0</td>\n",
       "    </tr>\n",
       "    <tr>\n",
       "      <th>mean</th>\n",
       "      <td>33.0</td>\n",
       "      <td>92.0</td>\n",
       "    </tr>\n",
       "    <tr>\n",
       "      <th>std</th>\n",
       "      <td>20.0</td>\n",
       "      <td>19.0</td>\n",
       "    </tr>\n",
       "    <tr>\n",
       "      <th>min</th>\n",
       "      <td>0.0</td>\n",
       "      <td>0.0</td>\n",
       "    </tr>\n",
       "    <tr>\n",
       "      <th>25%</th>\n",
       "      <td>20.0</td>\n",
       "      <td>96.0</td>\n",
       "    </tr>\n",
       "    <tr>\n",
       "      <th>50%</th>\n",
       "      <td>27.0</td>\n",
       "      <td>100.0</td>\n",
       "    </tr>\n",
       "    <tr>\n",
       "      <th>75%</th>\n",
       "      <td>45.0</td>\n",
       "      <td>100.0</td>\n",
       "    </tr>\n",
       "    <tr>\n",
       "      <th>max</th>\n",
       "      <td>100.0</td>\n",
       "      <td>100.0</td>\n",
       "    </tr>\n",
       "  </tbody>\n",
       "</table>\n",
       "</div>"
      ],
      "text/plain": [
       "       battery_in_level  battery_out_level\n",
       "count          383739.0           383739.0\n",
       "mean               33.0               92.0\n",
       "std                20.0               19.0\n",
       "min                 0.0                0.0\n",
       "25%                20.0               96.0\n",
       "50%                27.0              100.0\n",
       "75%                45.0              100.0\n",
       "max               100.0              100.0"
      ]
     },
     "execution_count": 18,
     "metadata": {},
     "output_type": "execute_result"
    }
   ],
   "source": [
    "df_swaps[['battery_in_level', 'battery_out_level']].astype(int).describe().round()"
   ]
  },
  {
   "cell_type": "markdown",
   "id": "05547ba5-79dd-4b4a-b6ce-e8a666f9f9d3",
   "metadata": {},
   "source": [
    "### Plan\n",
    "- Remove duplicates;\n",
    "- Remove null values for relevant columns (cabinet_id);\n",
    "- Disregard columns \"battery_in_id\" and \"battery_out_id\" -> too many null data;\n",
    "- Process date columns;\n",
    "- Replace \",\" in numeric columns;\n",
    "- Normalize data types;\n",
    "- Normalize status column;\n",
    "- Create \"battery charged\" feature;\n",
    "- Create time features (duration, year, month, etc)."
   ]
  },
  {
   "cell_type": "markdown",
   "id": "86940240-0e6c-43e7-93f2-de3030629ec0",
   "metadata": {},
   "source": [
    "## Stations"
   ]
  },
  {
   "cell_type": "code",
   "execution_count": 21,
   "id": "a4222f1e-b6ed-4a7a-947f-ce303df89c34",
   "metadata": {},
   "outputs": [
    {
     "data": {
      "text/html": [
       "<div>\n",
       "<style scoped>\n",
       "    .dataframe tbody tr th:only-of-type {\n",
       "        vertical-align: middle;\n",
       "    }\n",
       "\n",
       "    .dataframe tbody tr th {\n",
       "        vertical-align: top;\n",
       "    }\n",
       "\n",
       "    .dataframe thead th {\n",
       "        text-align: right;\n",
       "    }\n",
       "</style>\n",
       "<table border=\"1\" class=\"dataframe\">\n",
       "  <thead>\n",
       "    <tr style=\"text-align: right;\">\n",
       "      <th></th>\n",
       "      <th>swap_station_id</th>\n",
       "      <th>Endereço</th>\n",
       "      <th>latitude</th>\n",
       "      <th>longitude</th>\n",
       "    </tr>\n",
       "  </thead>\n",
       "  <tbody>\n",
       "    <tr>\n",
       "      <th>0</th>\n",
       "      <td>241</td>\n",
       "      <td>Av. das Nações, 2851, Ourilândia do Norte - PA...</td>\n",
       "      <td>-6.75</td>\n",
       "      <td>-51.07</td>\n",
       "    </tr>\n",
       "    <tr>\n",
       "      <th>1</th>\n",
       "      <td>241</td>\n",
       "      <td>Av. das Nações, 2851, Ourilândia do Norte - PA...</td>\n",
       "      <td>-6.75</td>\n",
       "      <td>-51.07</td>\n",
       "    </tr>\n",
       "    <tr>\n",
       "      <th>2</th>\n",
       "      <td>1</td>\n",
       "      <td>R. Santa Justina, 434 - Vila Olímpia, São Paul...</td>\n",
       "      <td>-23.60</td>\n",
       "      <td>-46.68</td>\n",
       "    </tr>\n",
       "    <tr>\n",
       "      <th>3</th>\n",
       "      <td>274</td>\n",
       "      <td>R. Azevedo Soares, 701 - Vila Gomes Cardim, Sã...</td>\n",
       "      <td>-23.55</td>\n",
       "      <td>-46.57</td>\n",
       "    </tr>\n",
       "    <tr>\n",
       "      <th>4</th>\n",
       "      <td>901</td>\n",
       "      <td>R. Comandante Taylor, 490 - Ipiranga, São Paul...</td>\n",
       "      <td>-23.60</td>\n",
       "      <td>-46.60</td>\n",
       "    </tr>\n",
       "  </tbody>\n",
       "</table>\n",
       "</div>"
      ],
      "text/plain": [
       "  swap_station_id                                           Endereço  \\\n",
       "0             241  Av. das Nações, 2851, Ourilândia do Norte - PA...   \n",
       "1             241  Av. das Nações, 2851, Ourilândia do Norte - PA...   \n",
       "2               1  R. Santa Justina, 434 - Vila Olímpia, São Paul...   \n",
       "3             274  R. Azevedo Soares, 701 - Vila Gomes Cardim, Sã...   \n",
       "4             901  R. Comandante Taylor, 490 - Ipiranga, São Paul...   \n",
       "\n",
       "   latitude  longitude  \n",
       "0     -6.75     -51.07  \n",
       "1     -6.75     -51.07  \n",
       "2    -23.60     -46.68  \n",
       "3    -23.55     -46.57  \n",
       "4    -23.60     -46.60  "
      ]
     },
     "execution_count": 21,
     "metadata": {},
     "output_type": "execute_result"
    }
   ],
   "source": [
    "df_stations.head()"
   ]
  },
  {
   "cell_type": "code",
   "execution_count": 22,
   "id": "ed0f614a-8937-40db-9837-614d73c6ac83",
   "metadata": {},
   "outputs": [
    {
     "name": "stdout",
     "output_type": "stream",
     "text": [
      "## Dataset Size ##\n",
      "482\n",
      "\n",
      " ## Column Types ##\n",
      "swap_station_id     object\n",
      "Endereço            object\n",
      "latitude           float64\n",
      "longitude          float64\n",
      "dtype: object\n",
      "\n",
      " ## NA Counts ##\n",
      "swap_station_id    0\n",
      "Endereço           0\n",
      "latitude           0\n",
      "longitude          0\n",
      "dtype: int64\n",
      "\n",
      " ## Duplicates ##\n",
      "329\n"
     ]
    }
   ],
   "source": [
    "diagnosis(df_stations)"
   ]
  },
  {
   "cell_type": "code",
   "execution_count": 23,
   "id": "c80c00be-c577-4194-ba95-97a197081d7a",
   "metadata": {},
   "outputs": [
    {
     "data": {
      "text/plain": [
       "151"
      ]
     },
     "execution_count": 23,
     "metadata": {},
     "output_type": "execute_result"
    }
   ],
   "source": [
    "df_stations = df_stations.drop_duplicates()\n",
    "len(df_stations[df_stations['Endereço'].str.contains('- SP')])"
   ]
  },
  {
   "cell_type": "markdown",
   "id": "384afa4f-96e4-47ad-8fd9-714e9638f943",
   "metadata": {},
   "source": [
    "### Plan\n",
    "- Remove duplicates;\n",
    "- Normalize columns names (Endereço);\n",
    "- Name stations;\n",
    "- Create geospatial features."
   ]
  },
  {
   "cell_type": "code",
   "execution_count": 56,
   "id": "742eb16b-1bae-4b45-846c-6ea1fd447720",
   "metadata": {},
   "outputs": [],
   "source": [
    "df_stations = df_stations[~df_stations['Endereço'].str.contains('- PA')][:].reset_index(drop=True)\n",
    "df_stations = df_stations.drop_duplicates()\n",
    "df_stations['neighborhood'] = df_stations['Endereço'].str.extract(r'-\\s*([^,]+),')"
   ]
  },
  {
   "cell_type": "code",
   "execution_count": 62,
   "id": "e14fae13-8ce6-4ee0-a2b9-0b143d086d42",
   "metadata": {},
   "outputs": [
    {
     "data": {
      "text/html": [
       "<div>\n",
       "<style scoped>\n",
       "    .dataframe tbody tr th:only-of-type {\n",
       "        vertical-align: middle;\n",
       "    }\n",
       "\n",
       "    .dataframe tbody tr th {\n",
       "        vertical-align: top;\n",
       "    }\n",
       "\n",
       "    .dataframe thead th {\n",
       "        text-align: right;\n",
       "    }\n",
       "</style>\n",
       "<table border=\"1\" class=\"dataframe\">\n",
       "  <thead>\n",
       "    <tr style=\"text-align: right;\">\n",
       "      <th></th>\n",
       "      <th>swap_station_id</th>\n",
       "      <th>Endereço</th>\n",
       "      <th>latitude</th>\n",
       "      <th>longitude</th>\n",
       "      <th>neighborhood</th>\n",
       "    </tr>\n",
       "  </thead>\n",
       "  <tbody>\n",
       "    <tr>\n",
       "      <th>8</th>\n",
       "      <td>755</td>\n",
       "      <td>R. Baraldi, 1149 - Centro, São Caetano do Sul ...</td>\n",
       "      <td>-23.61</td>\n",
       "      <td>-46.57</td>\n",
       "      <td>Centro</td>\n",
       "    </tr>\n",
       "    <tr>\n",
       "      <th>44</th>\n",
       "      <td>1,153</td>\n",
       "      <td>R. Sen. Flaquer, 825 - Centro, Santo André - S...</td>\n",
       "      <td>-23.66</td>\n",
       "      <td>-46.52</td>\n",
       "      <td>Centro</td>\n",
       "    </tr>\n",
       "    <tr>\n",
       "      <th>67</th>\n",
       "      <td>1,535</td>\n",
       "      <td>Av. Antônio Piranga, 615 - Centro, Diadema - S...</td>\n",
       "      <td>-23.69</td>\n",
       "      <td>-46.62</td>\n",
       "      <td>Centro</td>\n",
       "    </tr>\n",
       "    <tr>\n",
       "      <th>77</th>\n",
       "      <td>1,041</td>\n",
       "      <td>R. Secondo Modolin, 395 - Centro, São Bernardo...</td>\n",
       "      <td>-23.71</td>\n",
       "      <td>-46.56</td>\n",
       "      <td>Centro</td>\n",
       "    </tr>\n",
       "    <tr>\n",
       "      <th>94</th>\n",
       "      <td>1,231</td>\n",
       "      <td>Av. Rotary, 435 - Centro, São Bernardo do Camp...</td>\n",
       "      <td>-23.72</td>\n",
       "      <td>-46.55</td>\n",
       "      <td>Centro</td>\n",
       "    </tr>\n",
       "    <tr>\n",
       "      <th>101</th>\n",
       "      <td>1,534</td>\n",
       "      <td>Av. Pres. Kennedy, 334 - Centro, Diadema - SP,...</td>\n",
       "      <td>-23.68</td>\n",
       "      <td>-46.63</td>\n",
       "      <td>Centro</td>\n",
       "    </tr>\n",
       "    <tr>\n",
       "      <th>118</th>\n",
       "      <td>1,412</td>\n",
       "      <td>Av. Pref. Valdírio Prisco, 1360 - Centro, Ribe...</td>\n",
       "      <td>-23.71</td>\n",
       "      <td>-46.41</td>\n",
       "      <td>Centro</td>\n",
       "    </tr>\n",
       "    <tr>\n",
       "      <th>145</th>\n",
       "      <td>1,577</td>\n",
       "      <td>R. Luís Mariani, 148 - Centro, Mauá - SP, 0939...</td>\n",
       "      <td>-23.67</td>\n",
       "      <td>-46.46</td>\n",
       "      <td>Centro</td>\n",
       "    </tr>\n",
       "  </tbody>\n",
       "</table>\n",
       "</div>"
      ],
      "text/plain": [
       "    swap_station_id                                           Endereço  \\\n",
       "8               755  R. Baraldi, 1149 - Centro, São Caetano do Sul ...   \n",
       "44            1,153  R. Sen. Flaquer, 825 - Centro, Santo André - S...   \n",
       "67            1,535  Av. Antônio Piranga, 615 - Centro, Diadema - S...   \n",
       "77            1,041  R. Secondo Modolin, 395 - Centro, São Bernardo...   \n",
       "94            1,231  Av. Rotary, 435 - Centro, São Bernardo do Camp...   \n",
       "101           1,534  Av. Pres. Kennedy, 334 - Centro, Diadema - SP,...   \n",
       "118           1,412  Av. Pref. Valdírio Prisco, 1360 - Centro, Ribe...   \n",
       "145           1,577  R. Luís Mariani, 148 - Centro, Mauá - SP, 0939...   \n",
       "\n",
       "     latitude  longitude neighborhood  \n",
       "8      -23.61     -46.57       Centro  \n",
       "44     -23.66     -46.52       Centro  \n",
       "67     -23.69     -46.62       Centro  \n",
       "77     -23.71     -46.56       Centro  \n",
       "94     -23.72     -46.55       Centro  \n",
       "101    -23.68     -46.63       Centro  \n",
       "118    -23.71     -46.41       Centro  \n",
       "145    -23.67     -46.46       Centro  "
      ]
     },
     "execution_count": 62,
     "metadata": {},
     "output_type": "execute_result"
    }
   ],
   "source": [
    "df_stations[df_stations['neighborhood']=='Centro']"
   ]
  },
  {
   "cell_type": "code",
   "execution_count": 86,
   "id": "ef046f46-2891-4abf-9dc8-1e59703888f8",
   "metadata": {},
   "outputs": [
    {
     "data": {
      "text/html": [
       "<div>\n",
       "<style scoped>\n",
       "    .dataframe tbody tr th:only-of-type {\n",
       "        vertical-align: middle;\n",
       "    }\n",
       "\n",
       "    .dataframe tbody tr th {\n",
       "        vertical-align: top;\n",
       "    }\n",
       "\n",
       "    .dataframe thead th {\n",
       "        text-align: right;\n",
       "    }\n",
       "</style>\n",
       "<table border=\"1\" class=\"dataframe\">\n",
       "  <thead>\n",
       "    <tr style=\"text-align: right;\">\n",
       "      <th></th>\n",
       "      <th>swap_station_id</th>\n",
       "      <th>Endereço</th>\n",
       "      <th>latitude</th>\n",
       "      <th>longitude</th>\n",
       "      <th>neighborhood</th>\n",
       "    </tr>\n",
       "  </thead>\n",
       "  <tbody>\n",
       "    <tr>\n",
       "      <th>123</th>\n",
       "      <td>1,654</td>\n",
       "      <td>Santiago, Santiago Metropolitan Region, Chile</td>\n",
       "      <td>-33.45</td>\n",
       "      <td>-70.67</td>\n",
       "      <td>NaN</td>\n",
       "    </tr>\n",
       "  </tbody>\n",
       "</table>\n",
       "</div>"
      ],
      "text/plain": [
       "    swap_station_id                                       Endereço  latitude  \\\n",
       "123           1,654  Santiago, Santiago Metropolitan Region, Chile    -33.45   \n",
       "\n",
       "     longitude neighborhood  \n",
       "123     -70.67          NaN  "
      ]
     },
     "execution_count": 86,
     "metadata": {},
     "output_type": "execute_result"
    }
   ],
   "source": [
    "df_stations[df_stations.neighborhood.isna()==True]"
   ]
  },
  {
   "cell_type": "code",
   "execution_count": 58,
   "id": "f01e3ecc-5502-4ec7-9d52-fc28f8206519",
   "metadata": {},
   "outputs": [
    {
     "data": {
      "text/plain": [
       "Centro              8\n",
       "Penha de França     4\n",
       "Pinheiros           4\n",
       "Rudge Ramos         3\n",
       "Santana             3\n",
       "                   ..\n",
       "Vila Santa Luzia    1\n",
       "Morumbi             1\n",
       "Serraria            1\n",
       "Vila Prel           1\n",
       "Demarchi            1\n",
       "Name: neighborhood, Length: 120, dtype: int64"
      ]
     },
     "execution_count": 58,
     "metadata": {},
     "output_type": "execute_result"
    }
   ],
   "source": [
    "df_stations['neighborhood'].value_counts()"
   ]
  },
  {
   "cell_type": "markdown",
   "id": "5fc4c694-e336-46b2-b4d2-be01e7075657",
   "metadata": {},
   "source": [
    "## Traffic"
   ]
  },
  {
   "cell_type": "code",
   "execution_count": 26,
   "id": "9adcd0f5-226c-41a7-ad41-eea223dd97f7",
   "metadata": {},
   "outputs": [
    {
     "data": {
      "text/html": [
       "<div>\n",
       "<style scoped>\n",
       "    .dataframe tbody tr th:only-of-type {\n",
       "        vertical-align: middle;\n",
       "    }\n",
       "\n",
       "    .dataframe tbody tr th {\n",
       "        vertical-align: top;\n",
       "    }\n",
       "\n",
       "    .dataframe thead th {\n",
       "        text-align: right;\n",
       "    }\n",
       "</style>\n",
       "<table border=\"1\" class=\"dataframe\">\n",
       "  <thead>\n",
       "    <tr style=\"text-align: right;\">\n",
       "      <th></th>\n",
       "      <th>lat</th>\n",
       "      <th>lng</th>\n",
       "      <th>week_observed</th>\n",
       "      <th>observations</th>\n",
       "    </tr>\n",
       "  </thead>\n",
       "  <tbody>\n",
       "    <tr>\n",
       "      <th>0</th>\n",
       "      <td>-23.63</td>\n",
       "      <td>-46.68</td>\n",
       "      <td>February 10, 2025</td>\n",
       "      <td>4,791</td>\n",
       "    </tr>\n",
       "    <tr>\n",
       "      <th>1</th>\n",
       "      <td>-23.63</td>\n",
       "      <td>-46.68</td>\n",
       "      <td>February 10, 2025</td>\n",
       "      <td>4,698</td>\n",
       "    </tr>\n",
       "    <tr>\n",
       "      <th>2</th>\n",
       "      <td>-23.52</td>\n",
       "      <td>-46.44</td>\n",
       "      <td>February 10, 2025</td>\n",
       "      <td>4,661</td>\n",
       "    </tr>\n",
       "    <tr>\n",
       "      <th>3</th>\n",
       "      <td>-23.67</td>\n",
       "      <td>-46.61</td>\n",
       "      <td>February 10, 2025</td>\n",
       "      <td>4,622</td>\n",
       "    </tr>\n",
       "    <tr>\n",
       "      <th>4</th>\n",
       "      <td>-23.61</td>\n",
       "      <td>-46.67</td>\n",
       "      <td>February 10, 2025</td>\n",
       "      <td>4,620</td>\n",
       "    </tr>\n",
       "  </tbody>\n",
       "</table>\n",
       "</div>"
      ],
      "text/plain": [
       "     lat    lng      week_observed observations\n",
       "0 -23.63 -46.68  February 10, 2025        4,791\n",
       "1 -23.63 -46.68  February 10, 2025        4,698\n",
       "2 -23.52 -46.44  February 10, 2025        4,661\n",
       "3 -23.67 -46.61  February 10, 2025        4,622\n",
       "4 -23.61 -46.67  February 10, 2025        4,620"
      ]
     },
     "execution_count": 26,
     "metadata": {},
     "output_type": "execute_result"
    }
   ],
   "source": [
    "df_traffic.head()"
   ]
  },
  {
   "cell_type": "code",
   "execution_count": 27,
   "id": "bf364ae2-a6df-4fa4-8d2d-5a7a8f380b13",
   "metadata": {},
   "outputs": [
    {
     "name": "stdout",
     "output_type": "stream",
     "text": [
      "## Dataset Size ##\n",
      "1048575\n",
      "\n",
      " ## Column Types ##\n",
      "lat              float64\n",
      "lng              float64\n",
      "week_observed     object\n",
      "observations      object\n",
      "dtype: object\n",
      "\n",
      " ## NA Counts ##\n",
      "lat              0\n",
      "lng              0\n",
      "week_observed    0\n",
      "observations     0\n",
      "dtype: int64\n",
      "\n",
      " ## Duplicates ##\n",
      "974089\n"
     ]
    }
   ],
   "source": [
    "diagnosis(df_traffic)"
   ]
  },
  {
   "cell_type": "code",
   "execution_count": 28,
   "id": "fc24f9c2-38ed-4da2-93f3-5e5fea0e502b",
   "metadata": {},
   "outputs": [
    {
     "data": {
      "text/plain": [
       "count    74486.0\n",
       "mean        97.0\n",
       "std        252.0\n",
       "min          9.0\n",
       "25%         19.0\n",
       "50%         37.0\n",
       "75%         79.0\n",
       "max       4791.0\n",
       "Name: observations, dtype: float64"
      ]
     },
     "execution_count": 28,
     "metadata": {},
     "output_type": "execute_result"
    }
   ],
   "source": [
    "(\n",
    "    df_traffic\n",
    "    .dropna(subset='observations')\n",
    "    .drop_duplicates()\n",
    "    .observations.astype(str).str.replace(',', '')\n",
    "    .astype(int)\n",
    "    .describe()\n",
    "    .round()\n",
    ")"
   ]
  },
  {
   "cell_type": "code",
   "execution_count": 102,
   "id": "f9d889d1-0460-4417-a063-8ede9ee9986f",
   "metadata": {},
   "outputs": [
    {
     "data": {
      "text/plain": [
       "0          February 10, 2025\n",
       "1          February 10, 2025\n",
       "2          February 10, 2025\n",
       "3          February 10, 2025\n",
       "4          February 10, 2025\n",
       "                 ...        \n",
       "1048570    February 10, 2025\n",
       "1048571    February 10, 2025\n",
       "1048572    February 10, 2025\n",
       "1048573    February 10, 2025\n",
       "1048574    February 10, 2025\n",
       "Name: week_observed, Length: 1048575, dtype: object"
      ]
     },
     "execution_count": 102,
     "metadata": {},
     "output_type": "execute_result"
    }
   ],
   "source": [
    "df_traffic['week_observed']"
   ]
  },
  {
   "cell_type": "markdown",
   "id": "fab18aea-3b87-4cf1-82d8-7562e23de78f",
   "metadata": {},
   "source": [
    "### Plan\n",
    "- Process date column;\n",
    "- Normalize observations column;\n",
    "- Create labels for traffic level;\n",
    "- Find nearby stations;\n",
    "- Duplicates: sum or remove?"
   ]
  }
 ],
 "metadata": {
  "kernelspec": {
   "display_name": "Python [conda env:meu_ambiente]",
   "language": "python",
   "name": "conda-env-meu_ambiente-py"
  },
  "language_info": {
   "codemirror_mode": {
    "name": "ipython",
    "version": 3
   },
   "file_extension": ".py",
   "mimetype": "text/x-python",
   "name": "python",
   "nbconvert_exporter": "python",
   "pygments_lexer": "ipython3",
   "version": "3.9.21"
  }
 },
 "nbformat": 4,
 "nbformat_minor": 5
}
