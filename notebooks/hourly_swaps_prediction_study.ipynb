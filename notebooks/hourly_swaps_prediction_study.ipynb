{
 "cells": [
  {
   "cell_type": "markdown",
   "id": "854b403b-4a1d-486a-9c4c-1c820f88c75f",
   "metadata": {},
   "source": [
    "# Business Case: Modelagem de Swaps para um Cabinet"
   ]
  },
  {
   "cell_type": "markdown",
   "id": "40581253-c20a-413d-ad6e-fca206bfba1b",
   "metadata": {},
   "source": [
    "Para a modelagem da série temporal de swaps de um cabinet em específico, decidi escolher o **cabinet de id 13**, que possui uma boa quantidade de swaps comparado aos outros. Assim, o estudo e previsões a seguir serão baseados neste cabinet, servindo como caso ilustrativo para o restante da case."
   ]
  },
  {
   "cell_type": "code",
   "execution_count": null,
   "id": "8d06c75e-ca40-4633-bfad-7d0a18b4df4f",
   "metadata": {},
   "outputs": [],
   "source": [
    "import pandas as pd\n",
    "import numpy as np\n",
    "import statsmodels.api as sm\n",
    "\n",
    "from sktime.performance_metrics.forecasting import mean_absolute_percentage_error, mean_absolute_error\n",
    "from statsmodels.discrete.count_model import ZeroInflatedPoisson, ZeroInflatedNegativeBinomialP\n",
    "\n",
    "import plotly.express as px"
   ]
  },
  {
   "cell_type": "code",
   "execution_count": null,
   "id": "ae4b91a7-b0d1-4503-9dc9-9b87f6822d50",
   "metadata": {},
   "outputs": [],
   "source": [
    "df = pd.read_csv('cabinet_data.csv')"
   ]
  },
  {
   "cell_type": "markdown",
   "id": "c8f3c424-8342-4af8-95e6-786f9c79612b",
   "metadata": {},
   "source": [
    "## Gráficos Descritivos"
   ]
  },
  {
   "cell_type": "markdown",
   "id": "ed42bdef-1d85-487c-ace7-a738e8e954b8",
   "metadata": {},
   "source": [
    "Vamos começar analisando alguns gráficos para melhor entender o comportamendo da nossa variável alvo."
   ]
  },
  {
   "cell_type": "code",
   "execution_count": null,
   "id": "c97955f0-a488-4df6-a2ff-4fbd02a21520",
   "metadata": {},
   "outputs": [],
   "source": [
    "fig = px.histogram(df, 'counts')\n",
    "\n",
    "fig.update_layout(\n",
    "    bargap=0.5,\n",
    "    xaxis_dtick=1,\n",
    "    title='Histograma de Swaps Horários',\n",
    "    yaxis_title='Contagem',\n",
    "    xaxis_title='Swaps',\n",
    "    height=500, width=1000\n",
    ")\n",
    "\n",
    "fig.show()"
   ]
  },
  {
   "cell_type": "code",
   "execution_count": null,
   "id": "dd884f30-c1b9-465e-b3c1-7846c697a532",
   "metadata": {},
   "outputs": [],
   "source": [
    "fig = px.line(df, x='hour', y='counts')\n",
    "\n",
    "fig.update_layout(\n",
    "    title='Série Horária de Swaps',\n",
    "    yaxis_title='Swaps',\n",
    "    xaxis_title='Data/hora',\n",
    "    height=500, width=1000\n",
    ")\n",
    "\n",
    "fig.show()"
   ]
  },
  {
   "cell_type": "code",
   "execution_count": null,
   "id": "5f5a3280-961a-40ea-8881-061f373a25ea",
   "metadata": {},
   "outputs": [],
   "source": [
    "mean_counts = df['counts'].mean()\n",
    "var_counts = df['counts'].var()\n",
    "\n",
    "print(f\"Média: {mean_counts:.2f}\")\n",
    "print(f\"Variância: {var_counts:.2f}\")\n",
    "print(f\"Razão variância/média: {var_counts/mean_counts:.2f}\")"
   ]
  },
  {
   "cell_type": "markdown",
   "id": "441cce2f-96a7-49a3-96e9-dde027d6ce48",
   "metadata": {},
   "source": [
    "Como pode-se observar nos gráficos acima, os valores da série temporal são baixos e com uma presença significativa de zeros. A princípio, podemos pensar em um modelo Poisson para descrever esse tipo de distribuição. Mas as estatísticas descritivas da série indicam uma média de 2.09 e uma variância de 3.81, resultando em uma razão variância/média de 1.82. Esse resultado sugere que a série apresenta **sobredispersão**, ou seja, a variabilidade dos dados é maior do que a esperada para uma distribuição Poisson padrão.\n",
    "\n",
    "Diante dessas características, foram testados modelos adequados para contagem de eventos com baixa frequência e excesso de zeros:\n",
    "\n",
    "- Poisson: modelo clássico para contagem de eventos, assume que a média e a variância são iguais.\n",
    "\n",
    "- Negative Binomial: lida com overdispersion, permitindo que a variância seja maior que a média.\n",
    "\n",
    "- Zero-Inflated Poisson (ZIP): combina um modelo Poisson com um componente que modela explicitamente o excesso de zeros.\n",
    "\n",
    "Mas antes de escrever os modelos, vamos criar algumas features temporais que possivelmente auxiliaram na hora de explicar o comportamento da variável."
   ]
  },
  {
   "cell_type": "markdown",
   "id": "cd39ead0-f2eb-46b9-91c7-1e24c3973a3d",
   "metadata": {},
   "source": [
    "## Modelagem"
   ]
  },
  {
   "cell_type": "code",
   "execution_count": null,
   "id": "b1fe563d-2782-41a7-9ae3-acc3655227a3",
   "metadata": {},
   "outputs": [],
   "source": [
    "df['hour'] = pd.to_datetime(df['hour'])\n",
    "\n",
    "# Hora e dia da semana\n",
    "df['hour_of_day'] = df['hour'].dt.hour\n",
    "df['day_of_week'] = df['hour'].dt.dayofweek \n",
    "df['is_weekend']  = (df['day_of_week'] >= 5).astype(int)\n",
    "\n",
    "# Lags\n",
    "for lag in [1, 2, 3, 24, 48]:\n",
    "    df[f'lag_{lag}'] = df['counts'].shift(lag).fillna(0)\n",
    "\n",
    "df['day_of_week']  = df['day_of_week'].astype('category')\n",
    "\n",
    "# Média móvel\n",
    "df['rolling_mean_3h'] = df['counts'].shift(1).rolling(window=3).mean().fillna(df['counts'].mean())\n",
    "df['rolling_mean_24h'] = df['counts'].shift(1).rolling(window=24).mean().fillna(df['counts'].mean())"
   ]
  },
  {
   "cell_type": "markdown",
   "id": "522e4662-411c-4eff-9dc5-a67b5efca1b1",
   "metadata": {},
   "source": [
    "Agora que temos as features temporais criadas, vamos testar os modelos."
   ]
  },
  {
   "cell_type": "code",
   "execution_count": null,
   "id": "0b97d2f3-83eb-4680-842c-dab7d79d9e3e",
   "metadata": {},
   "outputs": [],
   "source": [
    "# Fórmula do modelo\n",
    "formula = 'counts ~ C(hour_of_day) + C(day_of_week) + is_weekend + lag_1 + lag_2 + lag_3 + lag_24 + lag_48 + rolling_mean_3h'\n",
    "\n",
    "# --- Ajustes ---\n",
    "# Poisson\n",
    "poisson_model = sm.GLM.from_formula(formula, data=df, family=sm.families.Poisson()).fit()\n",
    "\n",
    "# NB\n",
    "nb_model = sm.GLM.from_formula(formula, data=df, family=sm.families.NegativeBinomial()).fit()\n",
    "\n",
    "# ZIP\n",
    "zip_model = ZeroInflatedPoisson.from_formula(formula, data=df, inflation='logit').fit()\n",
    "\n",
    "# Previsões\n",
    "df['predicted_poisson'] = poisson_model.predict(df).round()\n",
    "df['predicted_nb'] = nb_model.predict(df).round()\n",
    "df['predicted_zip'] = zip_model.predict(df).round()"
   ]
  },
  {
   "cell_type": "markdown",
   "id": "290eeb7d-394e-4fde-9f15-d46b2884aa24",
   "metadata": {},
   "source": [
    "Para decidirmos com qual modelo seguir, vamos utilizar a métrica do erro absoluto médio (MAE), pois ela faz mais sentido para séries inteiras e com muito zeros. Sendo assim, o modelo com o menor erro será escolhido."
   ]
  },
  {
   "cell_type": "code",
   "execution_count": null,
   "id": "8e80e2ef-2495-43c9-8d5e-c321ce0262f7",
   "metadata": {},
   "outputs": [],
   "source": [
    "maes = {}\n",
    "for model in ['predicted_poisson', 'predicted_nb', 'predicted_zip']: \n",
    "    maes[model] = mean_absolute_error(df['counts'], df[model]).round(4)\n",
    "maes"
   ]
  },
  {
   "cell_type": "markdown",
   "id": "505adbbf-624d-422c-9d7c-b51010201c8a",
   "metadata": {},
   "source": [
    "Apesar das diferenças teóricas, a avaliação de desempenho mostrou que o modelo Poisson apresentou os melhores resultados preditivos (por mais que minimamente). Isso indica que, embora houvesse algum excesso de zeros e leve overdispersion, o comportamento da série pôde ser capturado de forma mais simples e robusta pelo modelo Poisson, tornando-o a escolha mais adequada para a previsão da demanda horária de swaps neste cabinet em específico. Agora, vamos avaliar a sua taxa de acertos de zeros."
   ]
  },
  {
   "cell_type": "code",
   "execution_count": null,
   "id": "842c3af8-c0f1-4d31-a97d-ea7e1b010b36",
   "metadata": {},
   "outputs": [],
   "source": [
    "zero_hits = ((df['counts'] == 0) & (df['predicted_poisson'] == 0)).sum()\n",
    "total_zeros = (df['counts'] == 0).sum()\n",
    "\n",
    "taxa_acerto_zeros = zero_hits / total_zeros\n",
    "print(f\"Taxa de acerto de zeros: {round(taxa_acerto_zeros*100, 2)}%\")"
   ]
  },
  {
   "cell_type": "markdown",
   "id": "7ee22b16-bd93-4dd0-9e52-4a7b457cc9c6",
   "metadata": {},
   "source": [
    "Após ter selecionado nosso modelo, vamos gerar previsões horárias para uma semana a frente considerando um aumento de 10%, e finalmente analisar o gráfico de comparação entre o real e o previsto."
   ]
  },
  {
   "cell_type": "code",
   "execution_count": null,
   "id": "f45646b2-ec11-4afb-99f9-c05d40953538",
   "metadata": {},
   "outputs": [],
   "source": [
    "# Dataframe futuro\n",
    "last_datetime = df['hour'].max()\n",
    "future_dates = pd.date_range(start=last_datetime + pd.Timedelta(hours=1), periods=24*7, freq='H')\n",
    "df_future = pd.DataFrame({'hour': future_dates})\n",
    "\n",
    "# Features temporais\n",
    "df_future['hour_of_day'] = df_future['hour'].dt.hour\n",
    "df_future['day_of_week'] = df_future['hour'].dt.dayofweek\n",
    "df_future['is_weekend'] = (df_future['hour'].dt.dayofweek >= 5).astype(int)\n",
    "\n",
    "# Inicializar lags (com últimos valores reais)\n",
    "last_counts = df['counts'].values.tolist()\n",
    "preds = []\n",
    "\n",
    "for t in range(len(df_future)):\n",
    "    lag_1 = last_counts[-1] if t < 1 else pred_nb[t-1]\n",
    "    lag_2 = last_counts[-2] if t < 2 else pred_nb[t-2]\n",
    "    lag_3 = last_counts[-3] if t < 3 else pred_nb[t-3]\n",
    "    lag_24 = last_counts[-24] if t < 24 else pred_nb[t-24]\n",
    "    lag_48 = last_counts[-48] if t < 48 else pred_nb[t-48]\n",
    "\n",
    "    if t < 3:\n",
    "        rolling_mean_3h = np.mean(last_counts[-3+t:] + pred_nb[:t])\n",
    "    else:\n",
    "        rolling_mean_3h = np.mean(preds[t-3:t])\n",
    "\n",
    "    X_t = pd.DataFrame({\n",
    "        'hour_of_day': [df_future.loc[t, 'hour_of_day']],\n",
    "        'day_of_week': [df_future.loc[t, 'day_of_week']],\n",
    "        'is_weekend': [df_future.loc[t, 'is_weekend']],\n",
    "        'lag_1': [lag_1],\n",
    "        'lag_2': [lag_2],\n",
    "        'lag_3': [lag_3],\n",
    "        'lag_24': [lag_24],\n",
    "        'lag_48': [lag_48],\n",
    "        'rolling_mean_3h': [rolling_mean_3h]\n",
    "    })\n",
    "\n",
    "    pred_t = poisson_model.predict(X_t)[0]\n",
    "    preds.append(pred_t)\n",
    "\n",
    "# Adicionar previsões ao DataFrame futuro\n",
    "df_future['predicted_poisson'] = np.round(np.array(preds)*1.1)"
   ]
  },
  {
   "cell_type": "code",
   "execution_count": null,
   "id": "d8e0857a-8acc-4c71-b8e9-6d3875123e6b",
   "metadata": {},
   "outputs": [],
   "source": [
    "df_final = pd.concat([df, df_future])"
   ]
  },
  {
   "cell_type": "code",
   "execution_count": null,
   "id": "a6381327-f77f-4805-a63e-e830839cd43c",
   "metadata": {},
   "outputs": [],
   "source": [
    "fig = px.line(df_final, x='hour', y=['counts','predicted_poisson'])\n",
    "\n",
    "fig.update_layout(\n",
    "    title='Comparação entre o Real e o Previsto',\n",
    "    yaxis_title='Swaps',\n",
    "    xaxis_title='Data/hora',\n",
    "    height=500, width=1000\n",
    ")\n",
    "\n",
    "fig.show()"
   ]
  },
  {
   "cell_type": "markdown",
   "id": "1164b119-7076-468f-bbd8-163833154973",
   "metadata": {},
   "source": [
    "Para incorporar o crescimento de 10% nos dados, optei por aplicar o ajuste diretamente às previsões do modelo, e não aos dados históricos. Essa abordagem mantém a integridade do padrão aprendido pela série temporal, e tenta refletir de forma mais realista o impacto do aumento nas trocas futuras."
   ]
  },
  {
   "cell_type": "markdown",
   "id": "b2164e7d-ee59-41ab-bc28-421034fd420c",
   "metadata": {},
   "source": [
    "## Conclusão"
   ]
  },
  {
   "cell_type": "markdown",
   "id": "af69dbd4-d1f5-4a53-9eaf-a54dbfb2e675",
   "metadata": {},
   "source": [
    "A análise mostrou que o modelo escolhido se ajustou de forma satisfatória à série temporal de swaps do cabinet de ID 13, conseguindo capturar tendências temporais relevantes da demanda horária. O desempenho do modelo foi consistente, apresentando um **MAE inferior a 1**, o que indica que, em média, o erro nas previsões é inferior a um swap por hora — um resultado relevante considerando os valores baixos da série.\n",
    "\n",
    "No entanto, ao estender a previsão para uma semana à frente, observa-se uma dificuldade do modelo em replicar picos e vales, resultando em um leve desfasamento das previsões. Isso sugere que, embora o modelo seja eficiente para curto prazo, sua acurácia diminui para projeções mais longas, possivelmente devido à variabilidade intrínseca da série.\n",
    "\n",
    "Em suma, o modelo oferece boas previsões horárias de swaps em curto prazo, sendo útil para planejamento operacional, mas requer atenção ao extrapolar previsões para horizontes mais longos."
   ]
  }
 ],
 "metadata": {
  "kernelspec": {
   "display_name": "Python [conda env:meu_ambiente]",
   "language": "python",
   "name": "conda-env-meu_ambiente-py"
  },
  "language_info": {
   "codemirror_mode": {
    "name": "ipython",
    "version": 3
   },
   "file_extension": ".py",
   "mimetype": "text/x-python",
   "name": "python",
   "nbconvert_exporter": "python",
   "pygments_lexer": "ipython3",
   "version": "3.9.21"
  }
 },
 "nbformat": 4,
 "nbformat_minor": 5
}
