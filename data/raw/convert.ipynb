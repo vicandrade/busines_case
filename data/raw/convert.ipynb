{
 "cells": [
  {
   "cell_type": "code",
   "execution_count": 1,
   "id": "0e44a082-d0ec-465c-9749-7babac5ae786",
   "metadata": {},
   "outputs": [],
   "source": [
    "import pandas as pd"
   ]
  },
  {
   "cell_type": "code",
   "execution_count": 4,
   "id": "35ea5c49-4a7d-46d5-9dba-8d104906b0f0",
   "metadata": {},
   "outputs": [],
   "source": [
    "df_swaps = pd.read_csv('case_data_science_charging_ops___battery_swap_2025-09-26T17_45_41.358859844Z.csv')\n",
    "df_stations = pd.read_csv('case_data_science_charging_ops___swap_stations_info_2025-09-26T13_21_20.332938629Z.csv')\n",
    "df_traffic = pd.read_csv('ds_case_data_2025-09-29T23_51_12.68945565Z.csv', low_memory=False)"
   ]
  },
  {
   "cell_type": "code",
   "execution_count": 11,
   "id": "c806b4d6-60e9-4cbd-8b61-29f8fd0de6a7",
   "metadata": {},
   "outputs": [],
   "source": [
    "df_swaps.to_parquet('case_data_science_charging_ops___battery_swap_2025-09-26T17_45_41.358859844Z.parquet', index=False, engine='pyarrow', compression='snappy')\n",
    "df_stations.to_parquet('case_data_science_charging_ops___swap_stations_info_2025-09-26T13_21_20.332938629Z.parquet', index=False, engine='pyarrow', compression='snappy')\n",
    "df_traffic.to_parquet('ds_case_data_2025-09-29T23_51_12.68945565Z.parquet', index=False, engine='pyarrow', compression='snappy')"
   ]
  },
  {
   "cell_type": "code",
   "execution_count": null,
   "id": "be865146-b706-4a96-9282-e94a60af1444",
   "metadata": {},
   "outputs": [],
   "source": []
  }
 ],
 "metadata": {
  "kernelspec": {
   "display_name": "Python [conda env:meu_ambiente]",
   "language": "python",
   "name": "conda-env-meu_ambiente-py"
  },
  "language_info": {
   "codemirror_mode": {
    "name": "ipython",
    "version": 3
   },
   "file_extension": ".py",
   "mimetype": "text/x-python",
   "name": "python",
   "nbconvert_exporter": "python",
   "pygments_lexer": "ipython3",
   "version": "3.9.21"
  }
 },
 "nbformat": 4,
 "nbformat_minor": 5
}
